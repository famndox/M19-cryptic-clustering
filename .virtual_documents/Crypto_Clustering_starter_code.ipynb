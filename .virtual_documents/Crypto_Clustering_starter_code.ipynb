# Import required libraries and dependencies
import pandas as pd
import hvplot.pandas
from sklearn.cluster import KMeans
from sklearn.decomposition import PCA
from sklearn.preprocessing import StandardScaler


# Load the data into a Pandas DataFrame
df_market_data = pd.read_csv(
    "Resources/crypto_market_data.csv",
    index_col="coin_id")

# Display sample data
df_market_data.head(10)


# Generate summary statistics
df_market_data.describe()


# Plot your data to see what's in your DataFrame
df_market_data.hvplot.line(
    width=800,
    height=400,
    rot=90
)








# Shortcut
df_market_data.columns


# Use the `StandardScaler()` module from scikit-learn to normalize the data from the CSV file
scaled_data_df = StandardScaler().fit_transform(df_market_data[['price_change_percentage_24h', 'price_change_percentage_7d',
       'price_change_percentage_14d', 'price_change_percentage_30d',
       'price_change_percentage_60d', 'price_change_percentage_200d',
       'price_change_percentage_1y']])
scaled_data_df[:5]


# Create a DataFrame with the scaled data
df_crypto = pd.DataFrame(scaled_data_df, columns=['price_change_percentage_24h', 'price_change_percentage_7d',
       'price_change_percentage_14d', 'price_change_percentage_30d',
       'price_change_percentage_60d', 'price_change_percentage_200d',
       'price_change_percentage_1y'])

# Copy the crypto names from the original data
df_crypto['coin_id'] = df_market_data.index

# Set the coinid column as index
df_crypto = df_crypto.set_index('coin_id')

# Display sample data
df_crypto.head()








# Create a list with the number of k-values from 1 to 11
k = list(range(1,11))


# Create an empty list to store the inertia values
inertia = []

# Create a for loop to compute the inertia with each possible value of k
# Inside the loop:
# 1. Create a KMeans model using the loop counter for the n_clusters
# 2. Fit the model to the data using `df_market_data_scaled`
# 3. Append the model.inertia_ to the inertia list
for i in k:
    k_model = KMeans(n_clusters=i,random_state=0)
    k_model.fit(df_crypto)
    inertia.append(k_model.inertia_)


# Create a dictionary with the data to plot the Elbow curve
elbow_data = {"k": k, "inertia": inertia}

# Create a DataFrame with the data to plot the Elbow curve
df_elbow = pd.DataFrame(elbow_data)
df_elbow.head()


# Plot a line chart with all the inertia values computed with 
# the different values of k to visually identify the optimal value for k.
df_elbow.hvplot.line(
    x="k",
    y="inertia",
    title="Elbow",
    xticks=k
)











# Initialize the K-Means model using the best value for k
modelx = KMeans(n_clusters=4, random_state=0)


# Fit the K-Means model using the scaled data
modelx.fit(df_crypto)


# Predict the clusters to group the cryptocurrencies using the scaled data
k_x = modelx.predict(df_crypto)

# Print the resulting array of cluster values.
print(k_x)


# Create a copy of the DataFrame
df_k_x = df_crypto.copy()


# Add a new column to the DataFrame with the predicted clusters
df_k_x['k_x'] = k_x

# Display sample data
df_k_x.head(len(df_k_x.index))


# Create a scatter plot using hvPlot by setting 
# `x="price_change_percentage_24h"` and `y="price_change_percentage_7d"`. 
# Color the graph points with the labels found using K-Means and 
# add the crypto name in the `hover_cols` parameter to identify 
# the cryptocurrency represented by each data point.
df_k_x.hvplot.scatter(
    x='price_change_percentage_24h',
    y='price_change_percentage_7d',
    by='k_x',
    width=800,
    height=400,
    hover_cols='coin_id'
)



# Leaving this in to memorialize my current "but how do I tie it back?" state of understanding #eagerfornextweek!

df_market_data.hvplot.line(
    width=800,
    height=400,
    rot=90
)








# Create a PCA model instance and set `n_components=3`.
pca = PCA(n_components=3)


# Use the PCA model with `fit_transform` to reduce to 
# three principal components.
pca_k_x = pca.fit_transform(df_k_x)
# View the first five rows of the DataFrame. 
pca_k_x[:5]


# Retrieve the explained variance to determine how much information 
# can be attributed to each principal component.
pca.explained_variance_ratio_





# Create a new DataFrame with the PCA data.
# Creating a DataFrame with the PCA data
df_pca_k_x = pd.DataFrame(pca_k_x, columns=['PCA1','PCA2',"PCA3"])

# Copy the crypto names from the original data
# Set the coinid column as index
df_pca_k_x['coin_id'] = df_market_data.index
df_pca_k_x = df_pca_k_x.set_index('coin_id')

# Display sample data
df_pca_k_x.head()








# Create a list with the number of k-values from 1 to 11
pca_k = list(range(1, 11))


# Create an empty list to store the inertia values
pca_inertia = []

# Create a for loop to compute the inertia with each possible value of k
# Inside the loop:
# 1. Create a KMeans model using the loop counter for the n_clusters
# 2. Fit the model to the data using `df_market_data_pca`
# 3. Append the model.inertia_ to the inertia list
for i in pca_k:
    pca_k_model = KMeans(n_clusters=i, random_state=0)
    pca_k_model.fit(df_pca_k_x)
    pca_inertia.append(pca_k_model.inertia_)


# Create a dictionary with the data to plot the Elbow curve
pca_elbow_data = {"pca_k": pca_k, "pca_inertia": pca_inertia}

# Create a DataFrame with the data to plot the Elbow curve
pca_df_elbow = pd.DataFrame(pca_elbow_data)
pca_df_elbow.head()


# Plot a line chart with all the inertia values computed with 
# the different values of k to visually identify the optimal value for k.
pca_df_elbow.hvplot.line(
    x="pca_k",
    y="pca_inertia",
    title="PCA Elbow",
    xticks=pca_k
)








# Initialize the K-Means model using the best value for k
model = KMeans(n_clusters=4, random_state=0)


# Fit the K-Means model using the PCA data
model.fit(df_pca_k_x)


# Predict the clusters to group the cryptocurrencies using the PCA data
k_4 = model.predict(df_pca_k_x)
# Print the resulting array of cluster values.
print(k_4)


# Create a copy of the DataFrame with the PCA data
df_pca_predictions = df_pca_k_x.copy()

# Add a new column to the DataFrame with the predicted clusters
df_pca_predictions['k_4'] = k_4

# Display sample data
df_pca_predictions.head()


# Create a scatter plot using hvPlot by setting 
# `x="PC1"` and `y="PC2"`. 
# Color the graph points with the labels found using K-Means and 
# add the crypto name in the `hover_cols` parameter to identify 
# the cryptocurrency represented by each data point.
df_pca_predictions.hvplot.scatter(
    x="PCA1",
    y="PCA2",
    by="k_4",
    hover_cols="coin_id"
)





# Composite plot to contrast the Elbow curves
df_elbow.hvplot.line(
    x="k",
    y="inertia",
    title="Elbow",
    xticks=k
) + pca_df_elbow.hvplot.line(
    x="pca_k",
    y="pca_inertia",
    title="PCA Elbow",
    xticks=pca_k
)


# Composite plot to contrast the clusters
# YOUR CODE HERE!
df_k_x.hvplot.scatter(
    x='price_change_percentage_24h',
    y='price_change_percentage_7d',
    by='k_x',
    width=800,
    height=400,
    hover_cols='coin_id'
) + df_pca_predictions.hvplot.scatter(
    x="PCA1",
    y="PCA2",
    by="k_4",
    width=800,
    height=400,
    hover_cols="coin_id"
)






